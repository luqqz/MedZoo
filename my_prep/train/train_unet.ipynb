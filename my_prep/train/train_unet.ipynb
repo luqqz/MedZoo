{
 "cells": [
  {
   "cell_type": "code",
   "execution_count": 9,
   "metadata": {},
   "outputs": [
    {
     "name": "stdout",
     "output_type": "stream",
     "text": [
      "[name: \"/device:CPU:0\"\n",
      "device_type: \"CPU\"\n",
      "memory_limit: 268435456\n",
      "locality {\n",
      "}\n",
      "incarnation: 309439304152360244\n",
      "]\n"
     ]
    }
   ],
   "source": [
    "import os, sys\n",
    "sys.path.append(os.path.dirname(os.path.abspath('')))\n",
    "\n",
    "import tensorflow as tf\n",
    "import numpy\n",
    "\n",
    "from models.tensorflow.unet.model import *\n",
    "from datasets.tensorflow.MedicalDataset.MedicalDataset import MedicalDataset\n",
    "\n",
    "from tensorflow.python.client import device_lib\n",
    "print(device_lib.list_local_devices())"
   ]
  },
  {
   "cell_type": "code",
   "execution_count": null,
   "metadata": {},
   "outputs": [
    {
     "name": "stdout",
     "output_type": "stream",
     "text": [
      "Generate data, epoch start\n",
      "Loading example [23]\n",
      "image shape: (313, 192, 192)\n",
      "mask shape: (313, 192, 192)\n",
      "Epoch 1/10\n"
     ]
    },
    {
     "name": "stderr",
     "output_type": "stream",
     "text": [
      "Exception in thread Thread-18:\n",
      "Traceback (most recent call last):\n",
      "  File \"c:\\users\\luqz\\appdata\\local\\programs\\python\\python38\\lib\\threading.py\", line 932, in _bootstrap_inner\n",
      "    self.run()\n",
      "  File \"c:\\users\\luqz\\appdata\\local\\programs\\python\\python38\\lib\\threading.py\", line 870, in run\n",
      "    self._target(*self._args, **self._kwargs)\n",
      "  File \"c:\\users\\luqz\\appdata\\local\\programs\\python\\python38\\lib\\site-packages\\keras\\utils\\data_utils.py\", line 851, in _run\n",
      "    with closing(self.executor_fn(_SHARED_SEQUENCES)) as executor:\n",
      "  File \"c:\\users\\luqz\\appdata\\local\\programs\\python\\python38\\lib\\site-packages\\keras\\utils\\data_utils.py\", line 841, in pool_fn\n",
      "    pool = get_pool_class(True)(\n",
      "  File \"c:\\users\\luqz\\appdata\\local\\programs\\python\\python38\\lib\\multiprocessing\\context.py\", line 119, in Pool\n",
      "    return Pool(processes, initializer, initargs, maxtasksperchild,\n",
      "  File \"c:\\users\\luqz\\appdata\\local\\programs\\python\\python38\\lib\\multiprocessing\\pool.py\", line 212, in __init__\n",
      "    self._repopulate_pool()\n",
      "  File \"c:\\users\\luqz\\appdata\\local\\programs\\python\\python38\\lib\\multiprocessing\\pool.py\", line 303, in _repopulate_pool\n",
      "    return self._repopulate_pool_static(self._ctx, self.Process,\n",
      "  File \"c:\\users\\luqz\\appdata\\local\\programs\\python\\python38\\lib\\multiprocessing\\pool.py\", line 326, in _repopulate_pool_static\n",
      "    w.start()\n",
      "  File \"c:\\users\\luqz\\appdata\\local\\programs\\python\\python38\\lib\\multiprocessing\\process.py\", line 121, in start\n",
      "    self._popen = self._Popen(self)\n",
      "  File \"c:\\users\\luqz\\appdata\\local\\programs\\python\\python38\\lib\\multiprocessing\\context.py\", line 327, in _Popen\n",
      "    return Popen(process_obj)\n",
      "  File \"c:\\users\\luqz\\appdata\\local\\programs\\python\\python38\\lib\\multiprocessing\\popen_spawn_win32.py\", line 93, in __init__\n",
      "    reduction.dump(process_obj, to_child)\n",
      "  File \"c:\\users\\luqz\\appdata\\local\\programs\\python\\python38\\lib\\multiprocessing\\reduction.py\", line 60, in dump\n",
      "    ForkingPickler(file, protocol).dump(obj)\n",
      "TypeError: cannot pickle 'generator' object\n"
     ]
    }
   ],
   "source": [
    "NUM_THREADS = 4\n",
    "\n",
    "medical_dataset = MedicalDataset(organ_list=['spleen'], crop_to_mask=False, data3d=False)\n",
    "dataset = tf.data.Dataset.from_generator(medical_dataset.generate_data, output_types=(numpy.float32, numpy.float32))\n",
    "dataset = dataset.map(lambda x,y : (x,y), num_parallel_calls=NUM_THREADS).prefetch(buffer_size=512)\n",
    "dataset = dataset.batch(32)\n",
    "\n",
    "model = unet(input_size=(192, 192, 1))\n",
    "\n",
    "history = model.fit(\n",
    "    medical_dataset.generate_data(),\n",
    "    batch_size=1,\n",
    "    epochs=10,\n",
    "    steps_per_epoch=500,\n",
    "    use_multiprocessing=True,\n",
    "    workers=6\n",
    ")\n",
    "\n"
   ]
  },
  {
   "cell_type": "code",
   "execution_count": null,
   "metadata": {},
   "outputs": [],
   "source": []
  }
 ],
 "metadata": {
  "kernelspec": {
   "display_name": "Python 3",
   "language": "python",
   "name": "python3"
  },
  "language_info": {
   "codemirror_mode": {
    "name": "ipython",
    "version": 3
   },
   "file_extension": ".py",
   "mimetype": "text/x-python",
   "name": "python",
   "nbconvert_exporter": "python",
   "pygments_lexer": "ipython3",
   "version": "3.8.7"
  }
 },
 "nbformat": 4,
 "nbformat_minor": 4
}
